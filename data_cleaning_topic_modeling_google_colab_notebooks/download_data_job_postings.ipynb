{
  "nbformat": 4,
  "nbformat_minor": 0,
  "metadata": {
    "colab": {
      "provenance": []
    },
    "kernelspec": {
      "name": "python3",
      "display_name": "Python 3"
    },
    "language_info": {
      "name": "python"
    }
  },
  "cells": [
    {
      "cell_type": "code",
      "execution_count": null,
      "metadata": {
        "id": "9-KTzMHqNt3Z"
      },
      "outputs": [],
      "source": [
        "! pip install -q kaggle"
      ]
    },
    {
      "cell_type": "code",
      "source": [
        "from google.colab import drive\n",
        "drive.mount('/content/drive')"
      ],
      "metadata": {
        "id": "oqgmccibfmDr"
      },
      "execution_count": null,
      "outputs": []
    },
    {
      "cell_type": "code",
      "source": [
        "%cd \"/content/drive/MyDrive/team-25/\""
      ],
      "metadata": {
        "colab": {
          "base_uri": "https://localhost:8080/"
        },
        "id": "ipR13hV7cUja",
        "outputId": "735d8d8a-af37-4c6c-c4a8-d3a9e01f0819"
      },
      "execution_count": null,
      "outputs": [
        {
          "output_type": "stream",
          "name": "stdout",
          "text": [
            "/content/drive/MyDrive/team-25\n"
          ]
        }
      ]
    },
    {
      "cell_type": "code",
      "source": [
        "!pwd"
      ],
      "metadata": {
        "colab": {
          "base_uri": "https://localhost:8080/"
        },
        "id": "95q7K7JpcoaJ",
        "outputId": "3aeae2e8-630f-4432-d7d6-63cac49e91bd"
      },
      "execution_count": null,
      "outputs": [
        {
          "output_type": "stream",
          "name": "stdout",
          "text": [
            "/content/drive/MyDrive/team-25\n"
          ]
        }
      ]
    },
    {
      "cell_type": "code",
      "source": [
        "from google.colab import files"
      ],
      "metadata": {
        "id": "NHP0FWngOXTd"
      },
      "execution_count": null,
      "outputs": []
    },
    {
      "cell_type": "code",
      "source": [
        "files.upload()"
      ],
      "metadata": {
        "id": "TGkKuqOmOc5D"
      },
      "execution_count": null,
      "outputs": []
    },
    {
      "cell_type": "markdown",
      "source": [],
      "metadata": {
        "id": "5jUYDIeMbO-I"
      }
    },
    {
      "cell_type": "code",
      "source": [
        "! mkdir ~/.kaggle"
      ],
      "metadata": {
        "colab": {
          "base_uri": "https://localhost:8080/"
        },
        "id": "pP8tvRceOsjj",
        "outputId": "a1751397-a5df-48d1-c4e1-3ac96c384942"
      },
      "execution_count": null,
      "outputs": [
        {
          "output_type": "stream",
          "name": "stdout",
          "text": [
            "mkdir: cannot create directory ‘/root/.kaggle’: File exists\n"
          ]
        }
      ]
    },
    {
      "cell_type": "code",
      "source": [
        "! mv kaggle.json ~/.kaggle/"
      ],
      "metadata": {
        "id": "mbb_RC2tO4rb"
      },
      "execution_count": null,
      "outputs": []
    },
    {
      "cell_type": "code",
      "source": [
        " ! chmod 600 ~/.kaggle/kaggle.json"
      ],
      "metadata": {
        "id": "40LNPmKLO8Fk"
      },
      "execution_count": null,
      "outputs": []
    },
    {
      "cell_type": "code",
      "source": [
        "! mkdir data"
      ],
      "metadata": {
        "id": "SMw9bfhVdDvj"
      },
      "execution_count": null,
      "outputs": []
    },
    {
      "cell_type": "code",
      "source": [
        "%cd data"
      ],
      "metadata": {
        "colab": {
          "base_uri": "https://localhost:8080/"
        },
        "id": "3vJx5vFedUA5",
        "outputId": "2e147799-7f52-4fb2-d5ee-709c12b27e7a"
      },
      "execution_count": null,
      "outputs": [
        {
          "output_type": "stream",
          "name": "stdout",
          "text": [
            "/content/drive/MyDrive/team-25/data\n"
          ]
        }
      ]
    },
    {
      "cell_type": "code",
      "source": [
        "!kaggle datasets download -d andrewmvd/data-engineer-jobs"
      ],
      "metadata": {
        "colab": {
          "base_uri": "https://localhost:8080/"
        },
        "id": "mOBpNQAhPDOj",
        "outputId": "027cf3b7-bcaf-4e6a-aa4a-a3575694c06b"
      },
      "execution_count": null,
      "outputs": [
        {
          "output_type": "stream",
          "name": "stdout",
          "text": [
            "Downloading data-engineer-jobs.zip to /content/drive/MyDrive/team-25/data\n",
            "\r  0% 0.00/2.74M [00:00<?, ?B/s]\n",
            "\r100% 2.74M/2.74M [00:00<00:00, 120MB/s]\n"
          ]
        }
      ]
    },
    {
      "cell_type": "code",
      "source": [
        "!kaggle datasets download -d andrewmvd/data-analyst-jobs"
      ],
      "metadata": {
        "colab": {
          "base_uri": "https://localhost:8080/"
        },
        "id": "wtdWdjppPIj6",
        "outputId": "b15e2d59-a447-44c9-95ff-eadb36f0df96"
      },
      "execution_count": null,
      "outputs": [
        {
          "output_type": "stream",
          "name": "stdout",
          "text": [
            "Downloading data-analyst-jobs.zip to /content/drive/MyDrive/team-25/data\n",
            "\r  0% 0.00/2.25M [00:00<?, ?B/s]\n",
            "\r100% 2.25M/2.25M [00:00<00:00, 119MB/s]\n"
          ]
        }
      ]
    },
    {
      "cell_type": "code",
      "source": [
        "!kaggle datasets download -d andrewmvd/data-scientist-jobs"
      ],
      "metadata": {
        "colab": {
          "base_uri": "https://localhost:8080/"
        },
        "id": "wBowNSJrQe3y",
        "outputId": "9f491886-a734-4158-8f2d-405592d54172"
      },
      "execution_count": null,
      "outputs": [
        {
          "output_type": "stream",
          "name": "stdout",
          "text": [
            "Downloading data-scientist-jobs.zip to /content/drive/MyDrive/team-25/data\n",
            "\r  0% 0.00/4.49M [00:00<?, ?B/s]\n",
            "\r100% 4.49M/4.49M [00:00<00:00, 63.0MB/s]\n"
          ]
        }
      ]
    },
    {
      "cell_type": "code",
      "source": [
        "!kaggle datasets download -d vaghefi/company-reviews"
      ],
      "metadata": {
        "colab": {
          "base_uri": "https://localhost:8080/"
        },
        "id": "QEDw-cUMdokn",
        "outputId": "3dce051d-dba1-494b-edc7-21d935b7ee29"
      },
      "execution_count": null,
      "outputs": [
        {
          "output_type": "stream",
          "name": "stdout",
          "text": [
            "Downloading company-reviews.zip to /content/drive/MyDrive/team-25/data\n",
            "\r  0% 0.00/7.60M [00:00<?, ?B/s]\r 66% 5.00M/7.60M [00:00<00:00, 42.8MB/s]\n",
            "\r100% 7.60M/7.60M [00:00<00:00, 59.4MB/s]\n"
          ]
        }
      ]
    },
    {
      "cell_type": "code",
      "source": [
        "!kaggle datasets download -d salimwid/technology-company-layoffs-20222023-data"
      ],
      "metadata": {
        "colab": {
          "base_uri": "https://localhost:8080/"
        },
        "id": "EyGqQ6r8duBv",
        "outputId": "5e9abb6f-d291-4f95-9e7e-fdcf8e85036a"
      },
      "execution_count": null,
      "outputs": [
        {
          "output_type": "stream",
          "name": "stdout",
          "text": [
            "Downloading technology-company-layoffs-20222023-data.zip to /content/drive/MyDrive/team-25/data\n",
            "\r  0% 0.00/12.9k [00:00<?, ?B/s]\n",
            "\r100% 12.9k/12.9k [00:00<00:00, 2.31MB/s]\n"
          ]
        }
      ]
    },
    {
      "cell_type": "code",
      "source": [
        "! unzip company-reviews.zip"
      ],
      "metadata": {
        "colab": {
          "base_uri": "https://localhost:8080/"
        },
        "id": "p66mqyNadzc_",
        "outputId": "692d4f5b-c5e4-4711-bad9-c8915ce861ce"
      },
      "execution_count": null,
      "outputs": [
        {
          "output_type": "stream",
          "name": "stdout",
          "text": [
            "Archive:  company-reviews.zip\n",
            "  inflating: company_reviews.csv     \n"
          ]
        }
      ]
    },
    {
      "cell_type": "code",
      "source": [
        "! unzip data-analyst-jobs.zip"
      ],
      "metadata": {
        "colab": {
          "base_uri": "https://localhost:8080/"
        },
        "id": "ENbUID8vd_t1",
        "outputId": "b4fe444f-788a-47fb-b9d2-81e97b4c848b"
      },
      "execution_count": null,
      "outputs": [
        {
          "output_type": "stream",
          "name": "stdout",
          "text": [
            "Archive:  data-analyst-jobs.zip\n",
            "  inflating: DataAnalyst.csv         \n"
          ]
        }
      ]
    },
    {
      "cell_type": "code",
      "source": [
        "! unzip data-engineer-jobs.zip"
      ],
      "metadata": {
        "colab": {
          "base_uri": "https://localhost:8080/"
        },
        "id": "SU18ibOmeGrv",
        "outputId": "5d53d44c-7438-4748-d556-2fca808f447d"
      },
      "execution_count": null,
      "outputs": [
        {
          "output_type": "stream",
          "name": "stdout",
          "text": [
            "Archive:  data-engineer-jobs.zip\n",
            "  inflating: DataEngineer.csv        \n"
          ]
        }
      ]
    },
    {
      "cell_type": "code",
      "source": [
        "! unzip data-scientist-jobs.zip"
      ],
      "metadata": {
        "colab": {
          "base_uri": "https://localhost:8080/"
        },
        "id": "KGY7HVFHeI6m",
        "outputId": "562fd9a5-6528-4bb0-e850-cfabd4b46fff"
      },
      "execution_count": null,
      "outputs": [
        {
          "output_type": "stream",
          "name": "stdout",
          "text": [
            "Archive:  data-scientist-jobs.zip\n",
            "  inflating: DataScientist.csv       \n"
          ]
        }
      ]
    },
    {
      "cell_type": "code",
      "source": [
        "!unzip technology-company-layoffs-20222023-data.zip"
      ],
      "metadata": {
        "colab": {
          "base_uri": "https://localhost:8080/"
        },
        "id": "9LL-XcmKeQ1H",
        "outputId": "6a79dcc9-800b-4bae-df20-53b356ba4005"
      },
      "execution_count": null,
      "outputs": [
        {
          "output_type": "stream",
          "name": "stdout",
          "text": [
            "Archive:  technology-company-layoffs-20222023-data.zip\n",
            "  inflating: tech_layoffs.csv        \n"
          ]
        }
      ]
    },
    {
      "cell_type": "code",
      "source": [],
      "metadata": {
        "id": "49IjUhIjev5d"
      },
      "execution_count": null,
      "outputs": []
    }
  ]
}